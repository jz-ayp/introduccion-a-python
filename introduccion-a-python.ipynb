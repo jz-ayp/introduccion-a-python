{
 "cells": [
  {
   "cell_type": "markdown",
   "metadata": {
    "nbpresent": {
     "id": "9a7cfaef-b709-4c14-92fa-c4392d1eba73"
    }
   },
   "source": [
    "# Algoritmos y Programación\n",
    "## Práctica 1 - Introducción a Python\n",
    "\n",
    "Python es un lenguaje de programación interpretado, de uso general y multiparadigma. No es un lenguaje nuevo, fue desarrollado en los '80 por Guido van Rossum, es *open source* y actualmente existen diferentes implementaciones.\n",
    "\n",
    "Se trata de un lenguaje muy popular y su popularidad sigue creciendo, ya que se trata de un lenguaje versátil, poderoso y expresivo.\n",
    "\n",
    "![Popularidad de Python](assets/growth_major_languages-1-1400x1200.png \"Popularidad de Python\")\n",
    "Fuente: [https://stackoverflow.blog/2017/09/06/incredible-growth-python/](https://stackoverflow.blog/2017/09/06/incredible-growth-python/)"
   ]
  },
  {
   "cell_type": "markdown",
   "metadata": {},
   "source": [
    "Igualmente, existen numerosos entornos y editores para el desarrollo en lenguaje Python. Aunque es posible escribir programas en Python utilizando un editor de textos genérico (tal como el bloc de notas de Windows), es más común y conveniente el uso de entornos integrados de desarrollo (**IDE**, por sus siglas en inglés: _**I**ntegrated **D**evelopment **E**nvironment_). Un IDE es un conjunto de herramientas usadas para el desarrollo de aplicaciones, integradas en una interfaz única y consistente, usualmente gráfica (**GUI**: _**G**raphical **U**ser **I**nterface_). Entre estas herramientas, se encuentran, usualmente, editores de código, depuradores, inspectores de variables, administradores de archivos, entre otras. Es más sencillo utilizar estas herramientas  dentro de un mismo entorno integrado que tener que abrir diferentes aplicaciones, posiblemente con diferentes interfaces, para cada requerimiento.\n",
    "\n",
    "También es popular el uso de **editores de código**, que por su tamaño pequeño tienen una mayor velocidad de carga. A algunos de ellos se les pueden integrar extensiones (o _plug-ins_) para añadirles funcionalidad extra hasta acercarse a la funcionalidad de un IDE completo.\n",
    "\n",
    "En este curso, usaremos, de manera \"oficial\", el editor de código Microsoft Visual Studio Code, también conocido como VS Code, aunque también utilizaremos otros entornos para diferentes ejercicios.\n",
    "\n",
    "_**Nota**_: Visual Studio Code es un producto diferente de Visual Studio."
   ]
  },
  {
   "cell_type": "markdown",
   "metadata": {},
   "source": [
    "Por ejemplo, para esta actividad estamos utilizando un entorno conocido como **Jupyter Notebooks** (o cuadernos de Jupyter), ejecutado en la plataforma Google Colab, que nos permite intercalar celdas que contienen texto con formato (llamado ***Markdown***) y celdas con código.\n",
    "\n",
    "Para editar una celda de texto, hay que dar doble clic sobre la celda. Después de editarla, podemos ver el resultado dando `<Ctrl>-<Enter>`.\n",
    "\n",
    "Para editar una celda de código, basta dar clic sencillo sobre la misma, y, para ejecutar el código, hay que darle clic a la flecha en el margen izquierdo de la celda.\n",
    "\n",
    "![Botón ejecutar](assets/play-button.png \"Run this cell\")"
   ]
  },
  {
   "cell_type": "markdown",
   "metadata": {},
   "source": [
    "> ***Sugerencia***: Antes de continuar, será una buena idea guardar tu propia versión de este cuaderno para conservar las modificaciones que hagas. Para eso, selecciona **Archivo** > **Guardar una copia en Drive** del menú.\n",
    ">\n",
    "> ![Guardar en Drive](assets/save-nb-copy.png \"Guardar en Drive\")\n",
    "\n",
    "## Nuestro primer programa\n",
    "\n",
    "Cuando decimos que un lenguaje es *expresivo*, se refiere a que, con pocas instrucciones se pueden expresar procesos relativamente complejos. Por ejemplo, para mostrar texto en la pantalla, únicamente hay que utilizar la función `print` e indicar el texto a mostrar.\n",
    "\n",
    "Ejecuta la siguiente celda para que veas el resultado:"
   ]
  },
  {
   "cell_type": "code",
   "execution_count": null,
   "metadata": {},
   "outputs": [],
   "source": [
    "print(\"¡Hola, mundo!\")"
   ]
  },
  {
   "cell_type": "markdown",
   "metadata": {},
   "source": [
    "Experimenta con ese mismo código en la siguiente celda para responder las preguntas que aparecen más abajo."
   ]
  },
  {
   "cell_type": "code",
   "execution_count": null,
   "metadata": {},
   "outputs": [],
   "source": [
    "print(\"¡Hola, mundo!\")"
   ]
  },
  {
   "cell_type": "markdown",
   "metadata": {},
   "source": [
    "---\n",
    "\n",
    "**Contesta**: ¿Qué pasa si quitas los signos de admiración en el código de la celda? ¿Tienen alguna función especial?\n",
    "\n",
    "**Respuesta**:\n",
    " \n",
    "---"
   ]
  },
  {
   "cell_type": "markdown",
   "metadata": {},
   "source": [
    "---\n",
    "**Contesta**: ¿Qué pasa si quitas las comillas en el código de la celda? ¿Tienen alguna función especial?\n",
    "\n",
    "**Respuesta**: \n",
    "\n",
    "---"
   ]
  },
  {
   "cell_type": "markdown",
   "metadata": {},
   "source": [
    "Ahora, completa el código de la siguiente celda para imprimir tu nombre:"
   ]
  },
  {
   "cell_type": "code",
   "execution_count": null,
   "metadata": {},
   "outputs": [],
   "source": [
    "print()"
   ]
  },
  {
   "cell_type": "markdown",
   "metadata": {},
   "source": [
    "¿Puedes imaginarte cómo tendrías que hacer para que tu nombre se imprima en un renglón y tus apellidos en el siguiente. Inténtalo en la siguiente celda:"
   ]
  },
  {
   "cell_type": "code",
   "execution_count": null,
   "metadata": {},
   "outputs": [],
   "source": []
  },
  {
   "cell_type": "markdown",
   "metadata": {},
   "source": [
    "## Asignación\n",
    "\n",
    "Otra cosa que podemos hacer fácilmente es _asignar_ valores a _variables_.\n",
    "\n",
    "Posteriormente, estudiaremos más a fondo los conceptos de _variable_ y de _asignación_. Por lo pronto podemos pensar que una variable es un símbolo que representa un valor, y que la asignación \"guarda\" (o asocia) el valor en la variable.\n",
    "\n",
    "Para asignar, utilizamos el signo igual (`=`). A la izquierda del igual ponemos la variable a la que le queremos asignar el valor, y a la derecha del igual ponemos el valor que queremos guardar.\n",
    "\n",
    "> ***Nota***: Los nombres de variables tienen que iniciar con letra (o guión bajo) y pueden contener únicamente letras, dígitos y guiones bajos (en particular, no pueden tener espacios).\n",
    "\n",
    "Ejecuta la siguiente línea de código:"
   ]
  },
  {
   "cell_type": "code",
   "execution_count": null,
   "metadata": {},
   "outputs": [],
   "source": [
    "temperatura = 36.7"
   ]
  },
  {
   "cell_type": "markdown",
   "metadata": {},
   "source": [
    "---\n",
    "**Contesta**: ¿Qué pasó al ejecutar la celda? ¿Observaste que ocurriera algo?\n",
    "\n",
    "**Respuesta**: \n",
    "\n",
    "---"
   ]
  },
  {
   "cell_type": "markdown",
   "metadata": {},
   "source": [
    "Lo que pasó es que el valor `36.7` fue almacenado en la variable `temperatura`, pero realmente no es algo que podamos ver. Para observar que, efectivamente, el valor está almacenado en la variable, podemos imprimirlo."
   ]
  },
  {
   "cell_type": "code",
   "execution_count": null,
   "metadata": {},
   "outputs": [],
   "source": [
    "print(temperatura)"
   ]
  },
  {
   "cell_type": "markdown",
   "metadata": {},
   "source": [
    "Puedes cambiar el valor asignado y volver a imprimirlo para que observes cómo cambia el contenido de la variable."
   ]
  },
  {
   "cell_type": "markdown",
   "metadata": {},
   "source": [
    "---\n",
    "**Contesta**: ¿Observaste que en esta ocasión no usamos comillas en la función `print`? ¿Qué pasa si pones las comillas? ¿Por qué crees que sea la diferencia?\n",
    "\n",
    "**Respuesta**: \n",
    "\n",
    "---"
   ]
  },
  {
   "cell_type": "markdown",
   "metadata": {},
   "source": [
    "## Operaciones aritméticas\n",
    "\n",
    "En Python, los símbolos que se utilizan para hacer operaciones se llaman **operadores**. Tenemos, por ejemplo, los siguientes:\n",
    "\n",
    "| Operación | Operador |\n",
    "|:---------:|:--------:|\n",
    "| Suma      | `+`      |\n",
    "| Resta     | `-`      |\n",
    "| Multiplicación | `*` |\n",
    "| División  | `/`      |"
   ]
  },
  {
   "cell_type": "code",
   "execution_count": null,
   "metadata": {},
   "outputs": [],
   "source": [
    "subtotal = 123\n",
    "impuesto = 18.2\n",
    "total = subtotal + impuesto\n",
    "print(total)"
   ]
  },
  {
   "cell_type": "code",
   "execution_count": null,
   "metadata": {},
   "outputs": [],
   "source": [
    "temp_inicial = 25\n",
    "temp_final = 97.3\n",
    "delta_T = temp_final - temp_inicial\n",
    "print(delta_T)"
   ]
  },
  {
   "cell_type": "code",
   "execution_count": null,
   "metadata": {},
   "outputs": [],
   "source": [
    "velocidad = 55\n",
    "tiempo = 0.5\n",
    "distancia = velocidad * tiempo\n",
    "print(distancia)"
   ]
  },
  {
   "cell_type": "code",
   "execution_count": null,
   "metadata": {},
   "outputs": [],
   "source": [
    "voltaje = 120\n",
    "resistencia = 14\n",
    "corriente = voltaje / resistencia\n",
    "print(corriente)"
   ]
  },
  {
   "cell_type": "markdown",
   "metadata": {},
   "source": [
    "## Entradas del usuario\n",
    "\n",
    "Así como para imprimir valores se utiliza la función `print`, para obtener valores del usuario, se utiliza la función `input`. La forma general es:\n",
    "\n",
    "```Python\n",
    "variable = input(\"texto\")\n",
    "```\n",
    "\n",
    "Al encontrar la función `print`, el programa se detiene para permitir que el usuario escriba. La ejecución del programa se reanuada cuando el usuario presiona `<Enter>`."
   ]
  },
  {
   "cell_type": "code",
   "execution_count": null,
   "metadata": {},
   "outputs": [],
   "source": [
    "nombre = input(\"¿Cómo te llamas? \")\n",
    "print(\"Hola,\", nombre)"
   ]
  },
  {
   "cell_type": "markdown",
   "metadata": {},
   "source": [
    "---\n",
    "**Contesta**: ¿Qué se almacena en la variable `nombre`? ¿Notaste algún cambio en la instrucción `print` a como la hemos usado en los ejemplos anteriores, cuál?\n",
    "\n",
    "**Respuesta**: \n",
    "\n",
    "---"
   ]
  },
  {
   "cell_type": "markdown",
   "metadata": {},
   "source": [
    "## Calculadora\n",
    "\n",
    "Vamos a crear un programa para hacer cálculos aritméticos con un par de números introducidos por el usuario. Ejecuta la siguiente celda:"
   ]
  },
  {
   "cell_type": "code",
   "execution_count": null,
   "metadata": {},
   "outputs": [],
   "source": [
    "numero_1 = input(\"Introduzca un número: \")\n",
    "numero_2 = input(\"Introduzca otro número: \")\n",
    "suma = numero_1 + numero_2\n",
    "print(\"La suma es\", suma)"
   ]
  },
  {
   "cell_type": "markdown",
   "metadata": {},
   "source": [
    "---\n",
    "**Contesta**: No funcionó, ¿verdad? ¿Qué crees que pasó? \n",
    "\n",
    "**Respuesta**: \n",
    "\n",
    "---"
   ]
  },
  {
   "cell_type": "markdown",
   "metadata": {},
   "source": [
    "Lo que pasó es que `input` siempre regresa lo que el usuario tecleó _como un valor de texto_, no como valor numérico. Podemos usar la función `float` para convertir esos valores de texto que _parecen_ números en números verdaderos. Observa la diferencia al ejecutar la siguiente celda:"
   ]
  },
  {
   "cell_type": "code",
   "execution_count": null,
   "metadata": {},
   "outputs": [],
   "source": [
    "numero_1 = input(\"Introduzca un número: \")\n",
    "numero_2 = input(\"Introduzca otro número: \")\n",
    "numero_1 = float(numero_1)\n",
    "numero_2 = float(numero_2)\n",
    "suma = numero_1 + numero_2\n",
    "print(\"La suma es\", suma)"
   ]
  },
  {
   "cell_type": "markdown",
   "metadata": {},
   "source": [
    "Trata de completar el código en la siguiente celda para realizar las cuatro operaciones aritméticas básicas. Usa la porción de código mostrada como ejemplo. No te preocupes si no puedes completar esta actividad. Usa conceptos que ni siquiera hemos mencionado... pero inténtalo. "
   ]
  },
  {
   "cell_type": "code",
   "execution_count": null,
   "metadata": {},
   "outputs": [],
   "source": [
    "numero_1 = input(\"Introduzca un número: \")\n",
    "numero_2 = input(\"Introduzca otro número: \")\n",
    "operacion = input(\"¿Qué operación quiere hacer? \")\n",
    "\n",
    "numero_1 = float(numero_1)\n",
    "numero_2 = float(numero_2)\n",
    "\n",
    "if operacion == \"suma\":\n",
    "    resultado = numero_1 + numero_2\n",
    "elif operacion == \"resta\":\n",
    "    resultado = numero_1 - numero_2\n",
    "\n",
    "print(\"La\", operacion, \"de\", numero_1, \"y\", numero_2, \"es\", resultado)"
   ]
  },
  {
   "cell_type": "markdown",
   "metadata": {
    "nbpresent": {
     "id": "5b679b6c-d253-4676-b68a-c43925e71612"
    }
   },
   "source": [
    "## Informe\n",
    "\n",
    "Para el informe de esta actividad, hay que irse al principio del cuaderno y, al mover el puntero del ratón a la parte superior de la primera celda, va a aparecer un par de botones. Dar clic en el botón `+Texto` (agregar celda de texto), para insertar una celda en la que harás tu portada con todos los datos requeridos (no será una verdadera portada, pero no tenemos forma de hacer que quede en una página aparte).\n",
    "\n",
    "![Insertar celda](assets/insert-cell-above.png \"Insertar celda\")"
   ]
  },
  {
   "cell_type": "markdown",
   "metadata": {},
   "source": [
    "Si te equivocas e insertas una celda de código, puedes borrarla usando el icono del bote de basura e intentar insertar de nuevo una celda de texto.\n",
    "\n",
    "![Eliminar celda](assets/delete-cell.png \"Eliminar celda\")"
   ]
  },
  {
   "cell_type": "markdown",
   "metadata": {},
   "source": [
    "Después haz algo similar al final del cuaderno para insertar una celda para tus conclusiones.\n",
    "\n",
    "_**Observaciones**_:\n",
    "\n",
    "- Tienes que dejar un renglón en blanco entre cada párrafo de tus celdas. Los renglones que no están separados por renglones en blanco, se combinan en un único  renglón.\n",
    "\n",
    "- Si quieres experimentar dándole formato a tu portada o conclusiones, puedes consultar [esta guía](https://colab.research.google.com/notebooks/markdown_guide.ipynb).\n",
    "\n",
    "- Para el entregable de esta actividad se requieren la presentación (en PDF) y el código fuente (archivo .ipynb). Para obtenerlos puedes hacer lo siguiente:\n",
    "\n",
    "    - Informe en PDF: Del menú, selecciona **Archivo** > **Imprimir** e indica, después, la opción de guardar como PDF.\n",
    "\n",
    "    - Archivo fuente (.ipynb): Del menú, selecciona **Archivo** > **Descargar** > **Descargar .ipynb**.\n",
    "\n",
    "    - Sube ambos archivos a Canvas."
   ]
  }
 ],
 "metadata": {
  "anaconda-cloud": {},
  "interpreter": {
   "hash": "1e5a504a27c91785cc20fa5894256130d97c1764e1afe7fb121f7c2e7578e171"
  },
  "kernelspec": {
   "display_name": "Python 3.9.1 64-bit",
   "name": "python3"
  },
  "language_info": {
   "codemirror_mode": {
    "name": "ipython",
    "version": 3
   },
   "file_extension": ".py",
   "mimetype": "text/x-python",
   "name": "python",
   "nbconvert_exporter": "python",
   "pygments_lexer": "ipython3",
   "version": "3.9.1"
  },
  "nbpresent": {
   "slides": {
    "02c1cb8b-1ea5-4927-929a-96d8705eabbb": {
     "id": "02c1cb8b-1ea5-4927-929a-96d8705eabbb",
     "prev": "8e3abd4c-93ab-4304-8b18-346260c3ab6b",
     "regions": {
      "891c99d6-2592-4d72-a357-438b969594b6": {
       "attrs": {
        "height": 0.8,
        "width": 0.8,
        "x": 0.1,
        "y": 0.1
       },
       "content": {
        "cell": "bd2dae06-5fed-41da-bd19-d9612ab42c62",
        "part": "whole"
       },
       "id": "891c99d6-2592-4d72-a357-438b969594b6"
      }
     }
    },
    "0d2511ca-2b7c-407c-aaae-7e87165c24e1": {
     "id": "0d2511ca-2b7c-407c-aaae-7e87165c24e1",
     "prev": "1f044eae-527d-4a89-be16-4987b62ddc57",
     "regions": {
      "920b6847-cd32-4645-9eda-2a96bc1a9172": {
       "attrs": {
        "height": 0.8,
        "width": 0.8,
        "x": 0.1,
        "y": 0.1
       },
       "content": {
        "cell": "1c10962e-ead5-4021-81d2-daf6970f0035",
        "part": "whole"
       },
       "id": "920b6847-cd32-4645-9eda-2a96bc1a9172"
      }
     }
    },
    "1a6b5c26-7cde-430d-9f62-6f55728f0af1": {
     "id": "1a6b5c26-7cde-430d-9f62-6f55728f0af1",
     "prev": "1be76dd0-62a5-45d2-becb-f2a2d544fa01",
     "regions": {
      "65b06925-34e8-4e1f-a1e4-9f5c4ee7f833": {
       "attrs": {
        "height": 0.8,
        "width": 0.8,
        "x": 0.1,
        "y": 0.1
       },
       "content": {
        "cell": "d69037ba-7509-4a6a-b957-be19515e2189",
        "part": "whole"
       },
       "id": "65b06925-34e8-4e1f-a1e4-9f5c4ee7f833"
      }
     }
    },
    "1a710b7d-6c66-4c44-b387-1b7988df2356": {
     "id": "1a710b7d-6c66-4c44-b387-1b7988df2356",
     "prev": "a2df86d2-7092-438f-8dec-7549f82241af",
     "regions": {
      "89196ec8-dfe6-47ce-bdf0-0ea2f5731001": {
       "attrs": {
        "height": 0.8,
        "width": 0.8,
        "x": 0.1,
        "y": 0.1
       },
       "content": {
        "cell": "7900512e-fb87-467b-850a-fc26c8de9bc1",
        "part": "whole"
       },
       "id": "89196ec8-dfe6-47ce-bdf0-0ea2f5731001"
      }
     }
    },
    "1b478db4-a016-48b4-85d1-b767e6fcc3a5": {
     "id": "1b478db4-a016-48b4-85d1-b767e6fcc3a5",
     "prev": "3b14b323-adf0-4064-9f42-4aceb965c152",
     "regions": {
      "41d9353d-0ee3-45d8-9d4c-0315db0c774a": {
       "attrs": {
        "height": 0.8,
        "width": 0.8,
        "x": 0.1,
        "y": 0.1
       },
       "content": {
        "cell": "ce9b7dbb-31ff-4e08-bc98-944333adb93b",
        "part": "whole"
       },
       "id": "41d9353d-0ee3-45d8-9d4c-0315db0c774a"
      }
     }
    },
    "1b91ca88-6128-4b09-b9af-60dc52205eb8": {
     "id": "1b91ca88-6128-4b09-b9af-60dc52205eb8",
     "prev": "f4dd4017-8349-4734-bd74-3a8d5c4456f8",
     "regions": {
      "184448f1-6e15-431f-ae5e-3cae8733b12e": {
       "attrs": {
        "height": 0.8,
        "width": 0.8,
        "x": 0.1,
        "y": 0.1
       },
       "content": {
        "cell": "06c98fb7-0c75-4a12-a84d-08cd1fb85260",
        "part": "whole"
       },
       "id": "184448f1-6e15-431f-ae5e-3cae8733b12e"
      }
     }
    },
    "1be76dd0-62a5-45d2-becb-f2a2d544fa01": {
     "id": "1be76dd0-62a5-45d2-becb-f2a2d544fa01",
     "prev": "ac2d7b5f-aef2-4de1-844f-3336f9b4d3ba",
     "regions": {
      "9c4d9f61-376c-4ee0-861a-fa542573f3d5": {
       "attrs": {
        "height": 0.8,
        "width": 0.8,
        "x": 0.1,
        "y": 0.1
       },
       "content": {
        "cell": "415b9b33-0738-4146-a692-2d3f74d6db32",
        "part": "whole"
       },
       "id": "9c4d9f61-376c-4ee0-861a-fa542573f3d5"
      }
     }
    },
    "1f044eae-527d-4a89-be16-4987b62ddc57": {
     "id": "1f044eae-527d-4a89-be16-4987b62ddc57",
     "prev": "dc62a2fb-4a9f-4a5c-bff5-6127d3ae1a97",
     "regions": {
      "94b2a6ff-2847-4c87-9e8f-0cd198fe281a": {
       "attrs": {
        "height": 0.8,
        "width": 0.8,
        "x": 0.1,
        "y": 0.1
       },
       "content": {
        "cell": "720b199c-fc07-44f9-8526-137df10a0100",
        "part": "whole"
       },
       "id": "94b2a6ff-2847-4c87-9e8f-0cd198fe281a"
      }
     }
    },
    "22647163-6bf9-4ed0-a6c8-29d7b0c47d89": {
     "id": "22647163-6bf9-4ed0-a6c8-29d7b0c47d89",
     "prev": "840a2ed6-39d8-424e-8509-8b25e8431963",
     "regions": {
      "dd722b3c-8333-4190-9639-25a637873f1d": {
       "attrs": {
        "height": 0.8,
        "width": 0.8,
        "x": 0.1,
        "y": 0.1
       },
       "content": {
        "cell": "aa8d8a7a-d135-4050-abda-1ad78e1175ef",
        "part": "whole"
       },
       "id": "dd722b3c-8333-4190-9639-25a637873f1d"
      }
     }
    },
    "242e8d31-6729-4e3a-9457-7beeb53892fc": {
     "id": "242e8d31-6729-4e3a-9457-7beeb53892fc",
     "prev": "ed5bf755-9ca5-450b-a2ee-d1e064aa1511",
     "regions": {
      "ea313566-c204-41e3-aa78-287428cc2d35": {
       "attrs": {
        "height": 0.8,
        "width": 0.8,
        "x": 0.1,
        "y": 0.1
       },
       "content": {
        "cell": "67c68f8e-cc39-4f83-877b-460b41573852",
        "part": "whole"
       },
       "id": "ea313566-c204-41e3-aa78-287428cc2d35"
      }
     }
    },
    "2762bf29-ff20-4366-ad93-2ca95eab3b03": {
     "id": "2762bf29-ff20-4366-ad93-2ca95eab3b03",
     "prev": "d3186ca5-d78d-49c9-9b57-d82f4d5c9b45",
     "regions": {
      "6e3b5227-3e02-4628-bde8-ca339027a1d6": {
       "attrs": {
        "height": 0.8,
        "width": 0.8,
        "x": 0.1,
        "y": 0.1
       },
       "content": {
        "cell": "cd76fd80-9c5c-401d-80d8-8251f16a203a",
        "part": "whole"
       },
       "id": "6e3b5227-3e02-4628-bde8-ca339027a1d6"
      }
     }
    },
    "276beeb8-174b-4cb4-a602-ef2ae57d1335": {
     "id": "276beeb8-174b-4cb4-a602-ef2ae57d1335",
     "prev": "6f6e1010-9abe-4c76-9d48-5f0b3b8cf400",
     "regions": {
      "65cfb691-8153-4e4d-8fbb-be3d2a3612fb": {
       "attrs": {
        "height": 0.8,
        "width": 0.8,
        "x": 0.1,
        "y": 0.1
       },
       "content": {
        "cell": "f9b65202-3694-44f3-81d3-43ededc7cb8a",
        "part": "whole"
       },
       "id": "65cfb691-8153-4e4d-8fbb-be3d2a3612fb"
      }
     }
    },
    "354bf023-e1ca-4394-9853-f6581b548bc2": {
     "id": "354bf023-e1ca-4394-9853-f6581b548bc2",
     "prev": "d84007cf-6c90-44d0-b4e7-8cbfdaf4db66",
     "regions": {
      "82f5f3c6-e4b8-4b8f-9ca9-4026d52692b8": {
       "attrs": {
        "height": 0.8,
        "width": 0.8,
        "x": 0.1,
        "y": 0.1
       },
       "content": {
        "cell": "892dccb8-f736-42fb-a921-8b9d800ecced",
        "part": "whole"
       },
       "id": "82f5f3c6-e4b8-4b8f-9ca9-4026d52692b8"
      }
     }
    },
    "37b178f5-5e2e-4a69-bcf8-79c5d016fa2d": {
     "id": "37b178f5-5e2e-4a69-bcf8-79c5d016fa2d",
     "prev": "354bf023-e1ca-4394-9853-f6581b548bc2",
     "regions": {
      "527a1567-1867-4257-8e9d-0b98faa327e5": {
       "attrs": {
        "height": 0.8,
        "width": 0.8,
        "x": 0.1,
        "y": 0.1
       },
       "content": {
        "cell": "ca6f7680-57d2-4754-bdcb-44c66429df2c",
        "part": "whole"
       },
       "id": "527a1567-1867-4257-8e9d-0b98faa327e5"
      }
     }
    },
    "3a879bef-6403-4609-8b8f-1de09f0d7e68": {
     "id": "3a879bef-6403-4609-8b8f-1de09f0d7e68",
     "prev": "951c3d9a-dc5f-4d0e-82cb-b5b4d6274fed",
     "regions": {
      "c20829d5-0b03-45b9-9ba4-5578d342bf51": {
       "attrs": {
        "height": 0.8,
        "width": 0.8,
        "x": 0.1,
        "y": 0.1
       },
       "content": {
        "cell": "5b679b6c-d253-4676-b68a-c43925e71612",
        "part": "whole"
       },
       "id": "c20829d5-0b03-45b9-9ba4-5578d342bf51"
      }
     }
    },
    "3b14b323-adf0-4064-9f42-4aceb965c152": {
     "id": "3b14b323-adf0-4064-9f42-4aceb965c152",
     "prev": "02c1cb8b-1ea5-4927-929a-96d8705eabbb",
     "regions": {
      "ea3b7fbd-016d-4fd4-ba29-91dc3b29117f": {
       "attrs": {
        "height": 0.8,
        "width": 0.8,
        "x": 0.1,
        "y": 0.1
       },
       "content": {
        "cell": "ba6ff811-da08-450b-a1f1-38209fff4535",
        "part": "whole"
       },
       "id": "ea3b7fbd-016d-4fd4-ba29-91dc3b29117f"
      }
     }
    },
    "472a09a8-3df8-4a54-bd34-ebd155bb30de": {
     "id": "472a09a8-3df8-4a54-bd34-ebd155bb30de",
     "prev": "76102ddc-4bc3-4d07-a875-6abbdeb45888",
     "regions": {
      "443f1acd-cf86-4fd3-9f00-5298f9a069af": {
       "attrs": {
        "height": 0.8,
        "width": 0.8,
        "x": 0.1,
        "y": 0.1
       },
       "content": {
        "cell": "85dc0f81-ead5-49ce-9419-a79f554ddaff",
        "part": "whole"
       },
       "id": "443f1acd-cf86-4fd3-9f00-5298f9a069af"
      }
     }
    },
    "51d85caf-1990-49c0-87cb-0d9ac8885ab9": {
     "id": "51d85caf-1990-49c0-87cb-0d9ac8885ab9",
     "prev": "d54ba42e-fd62-45f3-a07f-f6c3862bcbf3",
     "regions": {
      "c111ec6d-6068-4fd3-8647-0a42c9a6eaf4": {
       "attrs": {
        "height": 0.8,
        "width": 0.8,
        "x": 0.1,
        "y": 0.1
       },
       "content": {
        "cell": "f32a384c-64cc-4566-adfe-0884b7717c6e",
        "part": "whole"
       },
       "id": "c111ec6d-6068-4fd3-8647-0a42c9a6eaf4"
      }
     }
    },
    "5b4a35d4-946c-4444-b71d-57a554e43571": {
     "id": "5b4a35d4-946c-4444-b71d-57a554e43571",
     "prev": "a1906db8-4b5d-4db3-980f-07236030021c",
     "regions": {
      "546d91e6-2cfa-4882-a788-4b9b6b0440a2": {
       "attrs": {
        "height": 0.8,
        "width": 0.8,
        "x": 0.1,
        "y": 0.1
       },
       "content": {
        "cell": "9291dfe5-4a19-47d3-bac5-c7cf9acc1ffd",
        "part": "whole"
       },
       "id": "546d91e6-2cfa-4882-a788-4b9b6b0440a2"
      }
     }
    },
    "62cc44b7-2478-4cf8-8691-c4182f5a30f7": {
     "id": "62cc44b7-2478-4cf8-8691-c4182f5a30f7",
     "prev": "e32ad68d-3fec-4add-8c76-305567b717ee",
     "regions": {
      "902a3fe0-7d99-4056-abba-33d5207cc2ac": {
       "attrs": {
        "height": 0.8,
        "width": 0.8,
        "x": 0.1,
        "y": 0.1
       },
       "content": {
        "cell": "14b278c9-020d-46f2-9174-7f78d1e0376b",
        "part": "whole"
       },
       "id": "902a3fe0-7d99-4056-abba-33d5207cc2ac"
      }
     }
    },
    "670330e1-1bec-4cc5-8a51-fc04f8042b73": {
     "id": "670330e1-1bec-4cc5-8a51-fc04f8042b73",
     "prev": "b09d9d2d-e115-4437-809b-64d3eceb2def",
     "regions": {
      "d3a95520-d1aa-455b-868c-9040be8a0846": {
       "attrs": {
        "height": 0.8,
        "width": 0.8,
        "x": 0.1,
        "y": 0.1
       },
       "content": {
        "cell": "4d6ee5c3-b2b7-4dd5-a5b1-403e6f0369b4",
        "part": "whole"
       },
       "id": "d3a95520-d1aa-455b-868c-9040be8a0846"
      }
     }
    },
    "6e0a5d1c-1a96-4cda-9e27-fbadbdb78b6d": {
     "id": "6e0a5d1c-1a96-4cda-9e27-fbadbdb78b6d",
     "prev": "242e8d31-6729-4e3a-9457-7beeb53892fc",
     "regions": {
      "a45e7a03-70ae-41e2-bc84-31552051f853": {
       "attrs": {
        "height": 0.8,
        "width": 0.8,
        "x": 0.1,
        "y": 0.1
       },
       "content": {
        "cell": "6357896a-e8eb-4069-9be5-7786ffcf8c0e",
        "part": "whole"
       },
       "id": "a45e7a03-70ae-41e2-bc84-31552051f853"
      }
     }
    },
    "6f6e1010-9abe-4c76-9d48-5f0b3b8cf400": {
     "id": "6f6e1010-9abe-4c76-9d48-5f0b3b8cf400",
     "prev": "d7a1e71e-1679-455b-9903-0c548486a673",
     "regions": {
      "77859612-c668-4a2f-8134-2938eb62f53c": {
       "attrs": {
        "height": 0.8,
        "width": 0.8,
        "x": 0.1,
        "y": 0.1
       },
       "content": {
        "cell": "84ff3e47-22ed-4369-a11d-5e7507919b8d",
        "part": "whole"
       },
       "id": "77859612-c668-4a2f-8134-2938eb62f53c"
      }
     }
    },
    "724f7357-d020-4bf3-80bd-c8827e9733b7": {
     "id": "724f7357-d020-4bf3-80bd-c8827e9733b7",
     "prev": "22647163-6bf9-4ed0-a6c8-29d7b0c47d89",
     "regions": {
      "e8f01da2-250f-4501-b1ce-f39e8bdb3dfa": {
       "attrs": {
        "height": 0.8,
        "width": 0.8,
        "x": 0.1,
        "y": 0.1
       },
       "content": {
        "cell": "2f54f6ae-18b6-40a7-85cb-0b042d6faf17",
        "part": "whole"
       },
       "id": "e8f01da2-250f-4501-b1ce-f39e8bdb3dfa"
      }
     }
    },
    "76102ddc-4bc3-4d07-a875-6abbdeb45888": {
     "id": "76102ddc-4bc3-4d07-a875-6abbdeb45888",
     "prev": "c5462d88-1c25-441d-a8df-27853e9b7e13",
     "regions": {
      "28e53fe3-9463-4842-8026-5317afeeea62": {
       "attrs": {
        "height": 0.8,
        "width": 0.8,
        "x": 0.1,
        "y": 0.1
       },
       "content": {
        "cell": "6a0e1b82-9cc4-41cf-a429-caa672298333",
        "part": "whole"
       },
       "id": "28e53fe3-9463-4842-8026-5317afeeea62"
      }
     }
    },
    "81f66aeb-a7fb-4b1c-8b3c-2c2ffcde8230": {
     "id": "81f66aeb-a7fb-4b1c-8b3c-2c2ffcde8230",
     "prev": "e234f2a4-3939-4ad9-8f11-2988c6cebe26",
     "regions": {
      "8b96c07a-58db-44c8-8829-21dddc2a2363": {
       "attrs": {
        "height": 0.8,
        "width": 0.8,
        "x": 0.1,
        "y": 0.1
       },
       "content": {
        "cell": "80c0a6da-7c94-4020-8c77-c8c1d372952e",
        "part": "whole"
       },
       "id": "8b96c07a-58db-44c8-8829-21dddc2a2363"
      }
     }
    },
    "840a2ed6-39d8-424e-8509-8b25e8431963": {
     "id": "840a2ed6-39d8-424e-8509-8b25e8431963",
     "prev": "c3e61207-9a43-44bf-84e4-2b0e25f0ada9",
     "regions": {
      "13e16f50-466f-4675-8747-fbe9331d8831": {
       "attrs": {
        "height": 0.8,
        "width": 0.8,
        "x": 0.1,
        "y": 0.1
       },
       "content": {
        "cell": "59e61b06-38da-4097-9a3f-8d43c2fe6f08",
        "part": "whole"
       },
       "id": "13e16f50-466f-4675-8747-fbe9331d8831"
      }
     }
    },
    "877c9019-0fea-40fe-8a53-c6af1fa1fa57": {
     "id": "877c9019-0fea-40fe-8a53-c6af1fa1fa57",
     "prev": "fb512bab-7dfe-4973-b0d6-6d129a96a697",
     "regions": {
      "3936de0e-16b4-4724-bf20-063070c7e93e": {
       "attrs": {
        "height": 0.8,
        "width": 0.8,
        "x": 0.1,
        "y": 0.1
       },
       "content": {
        "cell": "58f0315b-5478-441a-b261-58a0cdfa6c35",
        "part": "whole"
       },
       "id": "3936de0e-16b4-4724-bf20-063070c7e93e"
      }
     }
    },
    "8be20caf-d1ab-4e68-b59d-b4a61ec939df": {
     "id": "8be20caf-d1ab-4e68-b59d-b4a61ec939df",
     "prev": "724f7357-d020-4bf3-80bd-c8827e9733b7",
     "regions": {
      "d6b4c6a0-bb27-4a70-a912-27ab925123f0": {
       "attrs": {
        "height": 0.8,
        "width": 0.8,
        "x": 0.1,
        "y": 0.1
       },
       "content": {
        "cell": "f3d78fdf-76a7-45b1-aedd-7fae3b6bc3b2",
        "part": "whole"
       },
       "id": "d6b4c6a0-bb27-4a70-a912-27ab925123f0"
      }
     }
    },
    "8db753ce-bd13-4942-a87a-d0295e832b04": {
     "id": "8db753ce-bd13-4942-a87a-d0295e832b04",
     "prev": "2762bf29-ff20-4366-ad93-2ca95eab3b03",
     "regions": {
      "499055f7-d8aa-4c1a-bbe1-b09cd9d0bdd9": {
       "attrs": {
        "height": 0.8,
        "width": 0.8,
        "x": 0.1,
        "y": 0.1
       },
       "content": {
        "cell": "b4f0a731-60c8-4d44-99ab-6faba98b8f41",
        "part": "whole"
       },
       "id": "499055f7-d8aa-4c1a-bbe1-b09cd9d0bdd9"
      }
     }
    },
    "8e36be06-695b-4686-9185-e2cc708d7f9d": {
     "id": "8e36be06-695b-4686-9185-e2cc708d7f9d",
     "prev": "1a710b7d-6c66-4c44-b387-1b7988df2356",
     "regions": {
      "1ab56f4f-ef38-42c5-92c7-2b83dbd57062": {
       "attrs": {
        "height": 0.8,
        "width": 0.8,
        "x": 0.1,
        "y": 0.1
       },
       "content": {
        "cell": "bf4d3514-13d8-4731-bcd5-25db16d5421a",
        "part": "whole"
       },
       "id": "1ab56f4f-ef38-42c5-92c7-2b83dbd57062"
      }
     }
    },
    "8e3abd4c-93ab-4304-8b18-346260c3ab6b": {
     "id": "8e3abd4c-93ab-4304-8b18-346260c3ab6b",
     "prev": "51d85caf-1990-49c0-87cb-0d9ac8885ab9",
     "regions": {
      "1a4de839-1d6a-4e6f-bd69-8df31cecc5eb": {
       "attrs": {
        "height": 0.8,
        "width": 0.8,
        "x": 0.1,
        "y": 0.1
       },
       "content": {
        "cell": "d5818815-3171-4366-b145-a5d7b28e01f0",
        "part": "whole"
       },
       "id": "1a4de839-1d6a-4e6f-bd69-8df31cecc5eb"
      }
     }
    },
    "91a8ada8-6b2d-438b-8285-42463e6db731": {
     "id": "91a8ada8-6b2d-438b-8285-42463e6db731",
     "prev": "5b4a35d4-946c-4444-b71d-57a554e43571",
     "regions": {
      "7fd82202-6d16-4d27-a024-37c237fdc20a": {
       "attrs": {
        "height": 0.8,
        "width": 0.8,
        "x": 0.1,
        "y": 0.1
       },
       "content": {
        "cell": "9432acb9-b898-4198-a04c-9cb17bd221ee",
        "part": "whole"
       },
       "id": "7fd82202-6d16-4d27-a024-37c237fdc20a"
      }
     }
    },
    "951c3d9a-dc5f-4d0e-82cb-b5b4d6274fed": {
     "id": "951c3d9a-dc5f-4d0e-82cb-b5b4d6274fed",
     "prev": null,
     "regions": {
      "1f65a630-9187-47de-b878-759ab7c2b990": {
       "attrs": {
        "height": 0.8,
        "width": 0.8,
        "x": 0.1,
        "y": 0.1
       },
       "content": {
        "cell": "9a7cfaef-b709-4c14-92fa-c4392d1eba73",
        "part": "whole"
       },
       "id": "1f65a630-9187-47de-b878-759ab7c2b990"
      }
     }
    },
    "97163c5d-f57f-4c87-81be-17a4dcb26b7c": {
     "id": "97163c5d-f57f-4c87-81be-17a4dcb26b7c",
     "prev": "1a6b5c26-7cde-430d-9f62-6f55728f0af1",
     "regions": {
      "2feefcd4-9b2a-43b1-8243-42c819613da3": {
       "attrs": {
        "height": 0.8,
        "width": 0.8,
        "x": 0.1,
        "y": 0.1
       },
       "content": {
        "cell": "362d5153-ad49-4087-8de9-255004b61380",
        "part": "whole"
       },
       "id": "2feefcd4-9b2a-43b1-8243-42c819613da3"
      }
     }
    },
    "a1906db8-4b5d-4db3-980f-07236030021c": {
     "id": "a1906db8-4b5d-4db3-980f-07236030021c",
     "prev": "8e36be06-695b-4686-9185-e2cc708d7f9d",
     "regions": {
      "5f84c710-9b74-43d6-9ac2-1f8fb9e603e1": {
       "attrs": {
        "height": 0.8,
        "width": 0.8,
        "x": 0.1,
        "y": 0.1
       },
       "content": {
        "cell": "58ae8339-e0dc-409c-975f-f3d1a6a5ba5f",
        "part": "whole"
       },
       "id": "5f84c710-9b74-43d6-9ac2-1f8fb9e603e1"
      }
     }
    },
    "a2df86d2-7092-438f-8dec-7549f82241af": {
     "id": "a2df86d2-7092-438f-8dec-7549f82241af",
     "prev": "f07b640d-8077-4d62-b648-5bc165dc92f0",
     "regions": {
      "323edff4-5a7a-449f-90f1-8df248431bb0": {
       "attrs": {
        "height": 0.8,
        "width": 0.8,
        "x": 0.1,
        "y": 0.1
       },
       "content": {
        "cell": "b039cefe-ae2c-46d2-b502-8f780bb68263",
        "part": "whole"
       },
       "id": "323edff4-5a7a-449f-90f1-8df248431bb0"
      }
     }
    },
    "ac2d7b5f-aef2-4de1-844f-3336f9b4d3ba": {
     "id": "ac2d7b5f-aef2-4de1-844f-3336f9b4d3ba",
     "prev": "62cc44b7-2478-4cf8-8691-c4182f5a30f7",
     "regions": {
      "8e0dc87e-fb33-4976-974c-ab92a364fbe4": {
       "attrs": {
        "height": 0.8,
        "width": 0.8,
        "x": 0.1,
        "y": 0.1
       },
       "content": {
        "cell": "78f433cb-8134-47d6-83df-554951c28dcd",
        "part": "whole"
       },
       "id": "8e0dc87e-fb33-4976-974c-ab92a364fbe4"
      }
     }
    },
    "b09d9d2d-e115-4437-809b-64d3eceb2def": {
     "id": "b09d9d2d-e115-4437-809b-64d3eceb2def",
     "prev": "8db753ce-bd13-4942-a87a-d0295e832b04",
     "regions": {
      "2287652e-9b01-4a22-b540-23369ca6da4b": {
       "attrs": {
        "height": 0.8,
        "width": 0.8,
        "x": 0.1,
        "y": 0.1
       },
       "content": {
        "cell": "488d929b-71dc-4938-ae0c-3c51738ac01d",
        "part": "whole"
       },
       "id": "2287652e-9b01-4a22-b540-23369ca6da4b"
      }
     }
    },
    "b2897380-6ba2-430b-85de-129ee9888f1e": {
     "id": "b2897380-6ba2-430b-85de-129ee9888f1e",
     "prev": "3a879bef-6403-4609-8b8f-1de09f0d7e68",
     "regions": {
      "e3d35bdd-f7ad-430b-a08a-9c72d87fc7c3": {
       "attrs": {
        "height": 0.8,
        "width": 0.8,
        "x": 0.1,
        "y": 0.1
       },
       "content": {
        "cell": "b46eefec-b673-472d-a278-62589405732f",
        "part": "whole"
       },
       "id": "e3d35bdd-f7ad-430b-a08a-9c72d87fc7c3"
      }
     }
    },
    "c22a2f77-1ad6-402c-93da-82701d38caba": {
     "id": "c22a2f77-1ad6-402c-93da-82701d38caba",
     "prev": "472a09a8-3df8-4a54-bd34-ebd155bb30de",
     "regions": {
      "474ab701-8ed2-4f3f-8236-e845955613ac": {
       "attrs": {
        "height": 0.8,
        "width": 0.8,
        "x": 0.1,
        "y": 0.1
       },
       "content": {
        "cell": "b7bad371-ab2a-44d6-af3e-0ee3808a8c33",
        "part": "whole"
       },
       "id": "474ab701-8ed2-4f3f-8236-e845955613ac"
      }
     }
    },
    "c3e61207-9a43-44bf-84e4-2b0e25f0ada9": {
     "id": "c3e61207-9a43-44bf-84e4-2b0e25f0ada9",
     "prev": "1b478db4-a016-48b4-85d1-b767e6fcc3a5",
     "regions": {
      "c4a4f3b9-c0c8-4187-9793-cfa99a167b78": {
       "attrs": {
        "height": 0.8,
        "width": 0.8,
        "x": 0.1,
        "y": 0.1
       },
       "content": {
        "cell": "b20182df-6844-459d-8b30-732f6fb603dc",
        "part": "whole"
       },
       "id": "c4a4f3b9-c0c8-4187-9793-cfa99a167b78"
      }
     }
    },
    "c5462d88-1c25-441d-a8df-27853e9b7e13": {
     "id": "c5462d88-1c25-441d-a8df-27853e9b7e13",
     "prev": "de1078e4-dc0f-4c31-89ef-e161fdec55c2",
     "regions": {
      "4dd23476-8b7e-4237-9703-57ddf97bcf0b": {
       "attrs": {
        "height": 0.8,
        "width": 0.8,
        "x": 0.1,
        "y": 0.1
       },
       "content": {
        "cell": "f94be9c0-2680-4f25-b6e7-8872ea55a518",
        "part": "whole"
       },
       "id": "4dd23476-8b7e-4237-9703-57ddf97bcf0b"
      }
     }
    },
    "d3186ca5-d78d-49c9-9b57-d82f4d5c9b45": {
     "id": "d3186ca5-d78d-49c9-9b57-d82f4d5c9b45",
     "prev": "37b178f5-5e2e-4a69-bcf8-79c5d016fa2d",
     "regions": {
      "8170b14c-8dbf-446e-a220-298426a98b81": {
       "attrs": {
        "height": 0.8,
        "width": 0.8,
        "x": 0.1,
        "y": 0.1
       },
       "content": {
        "cell": "a0f813f1-ba14-4f4c-b29d-70b92353f4ef",
        "part": "whole"
       },
       "id": "8170b14c-8dbf-446e-a220-298426a98b81"
      }
     }
    },
    "d54ba42e-fd62-45f3-a07f-f6c3862bcbf3": {
     "id": "d54ba42e-fd62-45f3-a07f-f6c3862bcbf3",
     "prev": "1b91ca88-6128-4b09-b9af-60dc52205eb8",
     "regions": {
      "3e1121cf-71cd-4126-ad22-9e83739014db": {
       "attrs": {
        "height": 0.8,
        "width": 0.8,
        "x": 0.1,
        "y": 0.1
       },
       "content": {
        "cell": "5120d514-e973-4426-a231-979de551dcd8",
        "part": "whole"
       },
       "id": "3e1121cf-71cd-4126-ad22-9e83739014db"
      }
     }
    },
    "d7a1e71e-1679-455b-9903-0c548486a673": {
     "id": "d7a1e71e-1679-455b-9903-0c548486a673",
     "prev": "e95b6f53-ab37-4f98-89f6-1e64ee667958",
     "regions": {
      "09d14acd-1ebf-46da-8e88-894c27c9dbf8": {
       "attrs": {
        "height": 0.8,
        "width": 0.8,
        "x": 0.1,
        "y": 0.1
       },
       "content": {
        "cell": "bc059dda-4b52-4072-b98e-33baf59ad0b9",
        "part": "whole"
       },
       "id": "09d14acd-1ebf-46da-8e88-894c27c9dbf8"
      }
     }
    },
    "d84007cf-6c90-44d0-b4e7-8cbfdaf4db66": {
     "id": "d84007cf-6c90-44d0-b4e7-8cbfdaf4db66",
     "prev": "97163c5d-f57f-4c87-81be-17a4dcb26b7c",
     "regions": {
      "0bc1809c-c721-4dce-97b4-ce7ec2706e14": {
       "attrs": {
        "height": 0.8,
        "width": 0.8,
        "x": 0.1,
        "y": 0.1
       },
       "content": {
        "cell": "e220e680-688e-425f-ae71-5a25677224f5",
        "part": "whole"
       },
       "id": "0bc1809c-c721-4dce-97b4-ce7ec2706e14"
      }
     }
    },
    "dc62a2fb-4a9f-4a5c-bff5-6127d3ae1a97": {
     "id": "dc62a2fb-4a9f-4a5c-bff5-6127d3ae1a97",
     "prev": "6e0a5d1c-1a96-4cda-9e27-fbadbdb78b6d",
     "regions": {
      "bb692897-377f-49ce-9c39-a2af1eb4f21d": {
       "attrs": {
        "height": 0.8,
        "width": 0.8,
        "x": 0.1,
        "y": 0.1
       },
       "content": {
        "cell": "817a39a7-82ac-49d1-9bf7-3434b314f00b",
        "part": "whole"
       },
       "id": "bb692897-377f-49ce-9c39-a2af1eb4f21d"
      }
     }
    },
    "de1078e4-dc0f-4c31-89ef-e161fdec55c2": {
     "id": "de1078e4-dc0f-4c31-89ef-e161fdec55c2",
     "prev": "877c9019-0fea-40fe-8a53-c6af1fa1fa57",
     "regions": {
      "0d7f2acf-f639-4d20-9cb9-31e15e5507c6": {
       "attrs": {
        "height": 0.8,
        "width": 0.8,
        "x": 0.1,
        "y": 0.1
       },
       "content": {
        "cell": "e23d053d-5964-44d0-aae2-4e0778efb93a",
        "part": "whole"
       },
       "id": "0d7f2acf-f639-4d20-9cb9-31e15e5507c6"
      }
     }
    },
    "e234f2a4-3939-4ad9-8f11-2988c6cebe26": {
     "id": "e234f2a4-3939-4ad9-8f11-2988c6cebe26",
     "prev": "f434e3c2-23d3-4f39-b63c-1aed2d40b8b0",
     "regions": {
      "66acf81e-c9bf-48d1-86f8-c80aaf6fc333": {
       "attrs": {
        "height": 0.8,
        "width": 0.8,
        "x": 0.1,
        "y": 0.1
       },
       "content": {
        "cell": "39244fc8-a3e3-44bc-8405-14fc9eeb2146",
        "part": "whole"
       },
       "id": "66acf81e-c9bf-48d1-86f8-c80aaf6fc333"
      }
     }
    },
    "e2764cf1-998c-4035-82c0-d59a340af5cf": {
     "id": "e2764cf1-998c-4035-82c0-d59a340af5cf",
     "prev": "0d2511ca-2b7c-407c-aaae-7e87165c24e1",
     "regions": {
      "f5c8ab83-dd5a-4b87-8bcf-a19a6e62431f": {
       "attrs": {
        "height": 0.8,
        "width": 0.8,
        "x": 0.1,
        "y": 0.1
       },
       "content": {
        "cell": "59a29b7f-9cfe-449b-b24c-34fc1294d311",
        "part": "whole"
       },
       "id": "f5c8ab83-dd5a-4b87-8bcf-a19a6e62431f"
      }
     }
    },
    "e32ad68d-3fec-4add-8c76-305567b717ee": {
     "id": "e32ad68d-3fec-4add-8c76-305567b717ee",
     "prev": "e67afe0d-1079-47b6-8b0d-0fe247c7308e",
     "regions": {
      "23c1d3cd-c442-4404-a86a-bbab5c4a898a": {
       "attrs": {
        "height": 0.8,
        "width": 0.8,
        "x": 0.1,
        "y": 0.1
       },
       "content": {
        "cell": "217fa2d1-3bc9-4e61-b609-3e7d377f491d",
        "part": "whole"
       },
       "id": "23c1d3cd-c442-4404-a86a-bbab5c4a898a"
      }
     }
    },
    "e67afe0d-1079-47b6-8b0d-0fe247c7308e": {
     "id": "e67afe0d-1079-47b6-8b0d-0fe247c7308e",
     "prev": "91a8ada8-6b2d-438b-8285-42463e6db731",
     "regions": {
      "25c06f32-2192-4ad4-8318-3851839f0eb4": {
       "attrs": {
        "height": 0.8,
        "width": 0.8,
        "x": 0.1,
        "y": 0.1
       },
       "content": {
        "cell": "e291aeaa-4844-47d7-a871-58b1437ad1c7",
        "part": "whole"
       },
       "id": "25c06f32-2192-4ad4-8318-3851839f0eb4"
      }
     }
    },
    "e95b6f53-ab37-4f98-89f6-1e64ee667958": {
     "id": "e95b6f53-ab37-4f98-89f6-1e64ee667958",
     "prev": "ebfd7cb6-1a6c-4741-884f-0a500adfc001",
     "regions": {
      "1e9e0150-5de3-4b06-817c-2479815046de": {
       "attrs": {
        "height": 0.8,
        "width": 0.8,
        "x": 0.1,
        "y": 0.1
       },
       "content": {
        "cell": "05437cea-aacb-4084-9868-e26408ca3975",
        "part": "whole"
       },
       "id": "1e9e0150-5de3-4b06-817c-2479815046de"
      }
     }
    },
    "ebfd7cb6-1a6c-4741-884f-0a500adfc001": {
     "id": "ebfd7cb6-1a6c-4741-884f-0a500adfc001",
     "prev": "8be20caf-d1ab-4e68-b59d-b4a61ec939df",
     "regions": {
      "eee9a1c6-fe5e-412d-8cca-4ec68060e0b4": {
       "attrs": {
        "height": 0.8,
        "width": 0.8,
        "x": 0.1,
        "y": 0.1
       },
       "content": {
        "cell": "a532446a-2edb-424b-a525-159b0599ab62",
        "part": "whole"
       },
       "id": "eee9a1c6-fe5e-412d-8cca-4ec68060e0b4"
      }
     }
    },
    "ed5bf755-9ca5-450b-a2ee-d1e064aa1511": {
     "id": "ed5bf755-9ca5-450b-a2ee-d1e064aa1511",
     "prev": "276beeb8-174b-4cb4-a602-ef2ae57d1335",
     "regions": {
      "efe59f7f-707e-40b2-975f-ffa18c6b7c18": {
       "attrs": {
        "height": 0.8,
        "width": 0.8,
        "x": 0.1,
        "y": 0.1
       },
       "content": {
        "cell": "a13ca8be-ce1e-48f8-a33f-5937362f9f6f",
        "part": "whole"
       },
       "id": "efe59f7f-707e-40b2-975f-ffa18c6b7c18"
      }
     }
    },
    "ef92932c-fb02-41bb-b476-ed221d4d3275": {
     "id": "ef92932c-fb02-41bb-b476-ed221d4d3275",
     "prev": "c22a2f77-1ad6-402c-93da-82701d38caba",
     "regions": {
      "36622cfe-160d-44e1-b443-d1a24b33fc64": {
       "attrs": {
        "height": 0.8,
        "width": 0.8,
        "x": 0.1,
        "y": 0.1
       },
       "content": {
        "cell": "8db3c882-ebbf-45d7-ada8-3398b71dd7ee",
        "part": "whole"
       },
       "id": "36622cfe-160d-44e1-b443-d1a24b33fc64"
      }
     }
    },
    "f07b640d-8077-4d62-b648-5bc165dc92f0": {
     "id": "f07b640d-8077-4d62-b648-5bc165dc92f0",
     "prev": "b2897380-6ba2-430b-85de-129ee9888f1e",
     "regions": {
      "6d117bbe-24bb-49fe-a1c0-34425616440b": {
       "attrs": {
        "height": 0.8,
        "width": 0.8,
        "x": 0.1,
        "y": 0.1
       },
       "content": {
        "cell": "4d75614f-0094-4185-a2f9-01bbdfaf625d",
        "part": "whole"
       },
       "id": "6d117bbe-24bb-49fe-a1c0-34425616440b"
      }
     }
    },
    "f434e3c2-23d3-4f39-b63c-1aed2d40b8b0": {
     "id": "f434e3c2-23d3-4f39-b63c-1aed2d40b8b0",
     "prev": "e2764cf1-998c-4035-82c0-d59a340af5cf",
     "regions": {
      "ecd0a225-1154-4bc6-a19d-661d9030f790": {
       "attrs": {
        "height": 0.8,
        "width": 0.8,
        "x": 0.1,
        "y": 0.1
       },
       "content": {
        "cell": "a4e9b69b-e5cf-4206-bde2-b279354c4132",
        "part": "whole"
       },
       "id": "ecd0a225-1154-4bc6-a19d-661d9030f790"
      }
     }
    },
    "f4dd4017-8349-4734-bd74-3a8d5c4456f8": {
     "id": "f4dd4017-8349-4734-bd74-3a8d5c4456f8",
     "prev": "ef92932c-fb02-41bb-b476-ed221d4d3275",
     "regions": {
      "56e511c0-1a69-49b9-8089-517b684b5dc0": {
       "attrs": {
        "height": 0.8,
        "width": 0.8,
        "x": 0.1,
        "y": 0.1
       },
       "content": {
        "cell": "bf41bdc3-775f-4cbc-8d70-3453abd37135",
        "part": "whole"
       },
       "id": "56e511c0-1a69-49b9-8089-517b684b5dc0"
      }
     }
    },
    "fb512bab-7dfe-4973-b0d6-6d129a96a697": {
     "id": "fb512bab-7dfe-4973-b0d6-6d129a96a697",
     "prev": "670330e1-1bec-4cc5-8a51-fc04f8042b73",
     "regions": {
      "ad0464a5-5637-4d30-acb4-cf708fcf280c": {
       "attrs": {
        "height": 0.8,
        "width": 0.8,
        "x": 0.1,
        "y": 0.1
       },
       "content": {
        "cell": "0299b731-a5d9-4459-ab0c-75dcf4f7471b",
        "part": "whole"
       },
       "id": "ad0464a5-5637-4d30-acb4-cf708fcf280c"
      }
     }
    }
   },
   "themes": {}
  }
 },
 "nbformat": 4,
 "nbformat_minor": 1
}
